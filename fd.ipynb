{
 "cells": [
  {
   "cell_type": "code",
   "execution_count": 1,
   "id": "490c94d6",
   "metadata": {},
   "outputs": [
    {
     "name": "stdout",
     "output_type": "stream",
     "text": [
      "           close           high            low           open  \\\n",
      "0  109852.606563  110390.762045  109795.911552  110198.506682   \n",
      "1  110198.506682  110422.089761  109930.785955  110184.116925   \n",
      "2  110184.116925  110467.641163  109910.972321  110104.016189   \n",
      "3  110104.016189  110202.883721  108976.652806  109337.668948   \n",
      "4  109337.668948  110175.648488  108619.047723  109800.657268   \n",
      "\n",
      "                 time volume  \n",
      "0 2025-05-27 23:30:00   None  \n",
      "1 2025-05-27 22:30:00   None  \n",
      "2 2025-05-27 21:30:00   None  \n",
      "3 2025-05-27 20:30:00   None  \n",
      "4 2025-05-27 19:30:00   None  \n"
     ]
    }
   ],
   "source": [
    "#!%pip install requests pandas\n",
    "\n",
    "import requests\n",
    "import time\n",
    "import pandas as pd\n",
    "from datetime import datetime, timedelta\n",
    "\n",
    "# Parameters\n",
    "symbol = \"MARK:BTCUSD\"\n",
    "resolution = \"1h\"\n",
    "\n",
    "end_datetime = datetime(2025, 5, 27, 23, 59)\n",
    "end_time = int(end_datetime.timestamp())\n",
    "# end_time = int(time.time())\n",
    "start_time = end_time - 7 * 24 * 60 * 60  # 7 days back\n",
    "\n",
    "params = {\n",
    "    \"symbol\": symbol,\n",
    "    \"resolution\": resolution,\n",
    "    \"start\": start_time,\n",
    "    \"end\": end_time\n",
    "}\n",
    "\n",
    "headers = {\n",
    "    \"Accept\": \"application/json\"\n",
    "}\n",
    "\n",
    "# API Call\n",
    "url = \"https://api.india.delta.exchange/v2/history/candles\"\n",
    "response = requests.get(url, params=params, headers=headers)\n",
    "\n",
    "# Parse and show result\n",
    "if response.status_code == 200:\n",
    "    data = response.json()\n",
    "    df = pd.DataFrame(data[\"result\"])\n",
    "    df[\"time\"] = pd.to_datetime(df[\"time\"], unit=\"s\") + pd.Timedelta(hours=5, minutes=30)  # Convert to IST\n",
    "    print(df.head())\n",
    "else:\n",
    "    print(\"Error:\", response.status_code, response.text)"
   ]
  },
  {
   "cell_type": "code",
   "execution_count": 2,
   "id": "69ce36fb",
   "metadata": {},
   "outputs": [
    {
     "name": "stdout",
     "output_type": "stream",
     "text": [
      "Total rows: 168\n",
      "From: 2025-05-21 00:30:00\n",
      "To  : 2025-05-27 23:30:00\n"
     ]
    }
   ],
   "source": [
    "print(f\"Total rows: {len(df)}\")\n",
    "print(\"From:\", df[\"time\"].min())\n",
    "print(\"To  :\", df[\"time\"].max())"
   ]
  }
 ],
 "metadata": {
  "kernelspec": {
   "display_name": "base",
   "language": "python",
   "name": "python3"
  },
  "language_info": {
   "codemirror_mode": {
    "name": "ipython",
    "version": 3
   },
   "file_extension": ".py",
   "mimetype": "text/x-python",
   "name": "python",
   "nbconvert_exporter": "python",
   "pygments_lexer": "ipython3",
   "version": "3.12.7"
  }
 },
 "nbformat": 4,
 "nbformat_minor": 5
}
