{
 "cells": [
  {
   "cell_type": "code",
   "execution_count": 123,
   "id": "490c94d6",
   "metadata": {},
   "outputs": [
    {
     "name": "stdout",
     "output_type": "stream",
     "text": [
      "{'result': [{'close': 82, 'high': 82, 'low': 82, 'open': 82, 'time': 1708088400, 'volume': 1}, {'close': 248, 'high': 248, 'low': 248, 'open': 248, 'time': 1708084800, 'volume': 0}, {'close': 248, 'high': 248, 'low': 248, 'open': 248, 'time': 1708081200, 'volume': 0}, {'close': 248, 'high': 248, 'low': 248, 'open': 248, 'time': 1708077600, 'volume': 0}, {'close': 248, 'high': 248, 'low': 248, 'open': 248, 'time': 1708074000, 'volume': 0}, {'close': 248, 'high': 248, 'low': 248, 'open': 248, 'time': 1708070400, 'volume': 0}, {'close': 248, 'high': 248, 'low': 248, 'open': 248, 'time': 1708066800, 'volume': 0}, {'close': 248, 'high': 248, 'low': 248, 'open': 248, 'time': 1708063200, 'volume': 0}, {'close': 248, 'high': 248, 'low': 248, 'open': 248, 'time': 1708059600, 'volume': 0}, {'close': 248, 'high': 248, 'low': 248, 'open': 248, 'time': 1708056000, 'volume': 0}, {'close': 248, 'high': 248, 'low': 248, 'open': 248, 'time': 1708052400, 'volume': 0}, {'close': 248, 'high': 248, 'low': 248, 'open': 248, 'time': 1708048800, 'volume': 0}, {'close': 248, 'high': 248, 'low': 248, 'open': 248, 'time': 1708045200, 'volume': 0}, {'close': 248, 'high': 248, 'low': 248, 'open': 248, 'time': 1708041600, 'volume': 0}, {'close': 248, 'high': 248, 'low': 248, 'open': 248, 'time': 1708038000, 'volume': 0}, {'close': 248, 'high': 248, 'low': 248, 'open': 248, 'time': 1708034400, 'volume': 0}, {'close': 248, 'high': 248, 'low': 248, 'open': 248, 'time': 1708030800, 'volume': 0}, {'close': 248, 'high': 248, 'low': 248, 'open': 248, 'time': 1708027200, 'volume': 0}, {'close': 248, 'high': 248, 'low': 248, 'open': 248, 'time': 1708023600, 'volume': 0}, {'close': 248, 'high': 248, 'low': 248, 'open': 248, 'time': 1708020000, 'volume': 0}, {'close': 248, 'high': 248, 'low': 248, 'open': 248, 'time': 1708016400, 'volume': 0}, {'close': 248, 'high': 248, 'low': 248, 'open': 248, 'time': 1708012800, 'volume': 0}, {'close': 248, 'high': 248, 'low': 248, 'open': 248, 'time': 1708009200, 'volume': 0}, {'close': 248, 'high': 248, 'low': 248, 'open': 248, 'time': 1708005600, 'volume': 0}, {'close': 248, 'high': 248, 'low': 248, 'open': 248, 'time': 1708002000, 'volume': 0}, {'close': 248, 'high': 248, 'low': 248, 'open': 248, 'time': 1707998400, 'volume': 0}, {'close': 248, 'high': 248, 'low': 248, 'open': 248, 'time': 1707994800, 'volume': 0}, {'close': 248, 'high': 248, 'low': 248, 'open': 248, 'time': 1707991200, 'volume': 1}], 'success': True}\n"
     ]
    }
   ],
   "source": [
    "import requests\n",
    "import time\n",
    "import pandas as pd\n",
    "from datetime import datetime, timedelta\n",
    "\n",
    "# Parameters\n",
    "symbol = \"P-BTC-50800-170224\"\n",
    "resolution = \"1h\"\n",
    "\n",
    "end_datetime = datetime(2024, 2, 16, 23, 59)\n",
    "end_time = int(end_datetime.timestamp())\n",
    "start_time = end_time - 7 * 24 * 60 * 60  # 7 days back\n",
    "\n",
    "params = {\n",
    "    \"symbol\": symbol,\n",
    "    \"resolution\": resolution,\n",
    "    \"start\": start_time,\n",
    "    \"end\": end_time\n",
    "}\n",
    "\n",
    "headers = {\n",
    "    \"Accept\": \"application/json\"\n",
    "}\n",
    "\n",
    "# API Call\n",
    "url = \"https://api.india.delta.exchange/v2/history/candles\"\n",
    "response = requests.get(url, params=params, headers=headers)\n",
    "\n",
    "data = response.json()\n",
    "print(data)"
   ]
  },
  {
   "cell_type": "code",
   "execution_count": 124,
   "id": "bf2dd763",
   "metadata": {},
   "outputs": [
    {
     "name": "stdout",
     "output_type": "stream",
     "text": [
      "Index(['close', 'high', 'low', 'open', 'time', 'volume'], dtype='object')\n",
      "<bound method NDFrame.head of     close  high  low  open        time  volume\n",
      "0      82    82   82    82  1708088400       1\n",
      "1     248   248  248   248  1708084800       0\n",
      "2     248   248  248   248  1708081200       0\n",
      "3     248   248  248   248  1708077600       0\n",
      "4     248   248  248   248  1708074000       0\n",
      "5     248   248  248   248  1708070400       0\n",
      "6     248   248  248   248  1708066800       0\n",
      "7     248   248  248   248  1708063200       0\n",
      "8     248   248  248   248  1708059600       0\n",
      "9     248   248  248   248  1708056000       0\n",
      "10    248   248  248   248  1708052400       0\n",
      "11    248   248  248   248  1708048800       0\n",
      "12    248   248  248   248  1708045200       0\n",
      "13    248   248  248   248  1708041600       0\n",
      "14    248   248  248   248  1708038000       0\n",
      "15    248   248  248   248  1708034400       0\n",
      "16    248   248  248   248  1708030800       0\n",
      "17    248   248  248   248  1708027200       0\n",
      "18    248   248  248   248  1708023600       0\n",
      "19    248   248  248   248  1708020000       0\n",
      "20    248   248  248   248  1708016400       0\n",
      "21    248   248  248   248  1708012800       0\n",
      "22    248   248  248   248  1708009200       0\n",
      "23    248   248  248   248  1708005600       0\n",
      "24    248   248  248   248  1708002000       0\n",
      "25    248   248  248   248  1707998400       0\n",
      "26    248   248  248   248  1707994800       0\n",
      "27    248   248  248   248  1707991200       1>\n"
     ]
    }
   ],
   "source": [
    "df = pd.DataFrame(data[\"result\"])\n",
    "\n",
    "print(df.columns)\n",
    "print(df.head)\n"
   ]
  },
  {
   "cell_type": "code",
   "execution_count": 111,
   "id": "5c94e83f",
   "metadata": {},
   "outputs": [],
   "source": [
    "# df[\"time\"] = pd.to_datetime(df[\"time\"], unit=\"s\") + pd.Timedelta(hours=5, minutes=30)"
   ]
  },
  {
   "cell_type": "code",
   "execution_count": 125,
   "id": "69ce36fb",
   "metadata": {},
   "outputs": [
    {
     "name": "stdout",
     "output_type": "stream",
     "text": [
      "Total rows: 28\n",
      "From: 1707991200\n",
      "To  : 1708088400\n",
      "    close  high  low  open        time  volume\n",
      "0      82    82   82    82  1708088400       1\n",
      "1     248   248  248   248  1708084800       0\n",
      "2     248   248  248   248  1708081200       0\n",
      "3     248   248  248   248  1708077600       0\n",
      "4     248   248  248   248  1708074000       0\n",
      "5     248   248  248   248  1708070400       0\n",
      "6     248   248  248   248  1708066800       0\n",
      "7     248   248  248   248  1708063200       0\n",
      "8     248   248  248   248  1708059600       0\n",
      "9     248   248  248   248  1708056000       0\n",
      "10    248   248  248   248  1708052400       0\n",
      "11    248   248  248   248  1708048800       0\n",
      "12    248   248  248   248  1708045200       0\n",
      "13    248   248  248   248  1708041600       0\n",
      "14    248   248  248   248  1708038000       0\n",
      "15    248   248  248   248  1708034400       0\n",
      "16    248   248  248   248  1708030800       0\n",
      "17    248   248  248   248  1708027200       0\n",
      "18    248   248  248   248  1708023600       0\n",
      "19    248   248  248   248  1708020000       0\n",
      "20    248   248  248   248  1708016400       0\n",
      "21    248   248  248   248  1708012800       0\n",
      "22    248   248  248   248  1708009200       0\n",
      "23    248   248  248   248  1708005600       0\n",
      "24    248   248  248   248  1708002000       0\n",
      "25    248   248  248   248  1707998400       0\n",
      "26    248   248  248   248  1707994800       0\n",
      "27    248   248  248   248  1707991200       1\n"
     ]
    }
   ],
   "source": [
    "print(f\"Total rows: {len(df)}\")\n",
    "print(\"From:\", df[\"time\"].min())\n",
    "print(\"To  :\", df[\"time\"].max())\n",
    "\n",
    "print(df)"
   ]
  }
 ],
 "metadata": {
  "kernelspec": {
   "display_name": "base",
   "language": "python",
   "name": "python3"
  },
  "language_info": {
   "codemirror_mode": {
    "name": "ipython",
    "version": 3
   },
   "file_extension": ".py",
   "mimetype": "text/x-python",
   "name": "python",
   "nbconvert_exporter": "python",
   "pygments_lexer": "ipython3",
   "version": "3.12.7"
  }
 },
 "nbformat": 4,
 "nbformat_minor": 5
}
